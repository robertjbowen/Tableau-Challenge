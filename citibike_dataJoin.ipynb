{
 "cells": [
  {
   "cell_type": "code",
   "execution_count": 1,
   "metadata": {},
   "outputs": [],
   "source": [
    "import pandas as pd\n",
    "import numpy as np\n",
    "import datetime as dt\n",
    "import requests\n",
    "# import gmaps\n",
    "import os\n",
    "# Import API key\n",
    "from api_keys import g_key"
   ]
  },
  {
   "cell_type": "code",
   "execution_count": 5,
   "metadata": {},
   "outputs": [
    {
     "name": "stdout",
     "output_type": "stream",
     "text": [
      "2007_data.csv\n"
     ]
    }
   ],
   "source": [
    "#data_sets = ['202002-citibike-tripdata.csv', '202003-citibike-tripdata.csv', '202004-citibike-tripdata.csv', '202005-citibike-tripdata.csv', '202006-citibike-tripdata.csv', '202008-citibike-tripdata.csv', '202009-citibike-tripdata.csv', '202010-citibike-tripdata.csv', '202011-citibike-tripdata.csv', '202012-citibike-tripdata.csv']\n",
    "data_sets = ['202007-citibike-tripdata.csv']\n",
    "\n",
    "for set in data_sets: \n",
    "    citibike_data = pd.read_csv(set)\n",
    "    st_r = set\n",
    "    f_n = st_r.split(\"-\")\n",
    "    file_name = f_n[0][0 : 2 : ] + f_n[0][4 : :]\n",
    "    file_str = \"_data.csv\"\n",
    "    file_name += file_str\n",
    "    print(file_name)\n",
    "        \n",
    "    citibike_data['timestamp'] = pd.to_datetime(citibike_data['starttime'])\n",
    "    citibike_data['date'] = [dt.datetime.date(d) for d in citibike_data['timestamp']]\n",
    "    citibike_data['month'] = pd.DatetimeIndex(citibike_data['timestamp']).month\n",
    "    citibike_data['year'] = pd.DatetimeIndex(citibike_data['timestamp']).year\n",
    "\n",
    "    citibike_data.to_csv(file_name)"
   ]
  },
  {
   "cell_type": "code",
   "execution_count": 8,
   "metadata": {},
   "outputs": [
    {
     "name": "stdout",
     "output_type": "stream",
     "text": [
      "893\n",
      "2001_month_grouped.csv\n",
      "890\n",
      "2002_month_grouped.csv\n",
      "889\n",
      "2003_month_grouped.csv\n",
      "887\n",
      "2004_month_grouped.csv\n",
      "923\n",
      "2005_month_grouped.csv\n",
      "958\n",
      "2006_month_grouped.csv\n",
      "989\n",
      "2007_month_grouped.csv\n",
      "1039\n",
      "2008_month_grouped.csv\n",
      "1087\n",
      "2009_month_grouped.csv\n",
      "1144\n",
      "2010_month_grouped.csv\n",
      "1152\n",
      "2011_month_grouped.csv\n",
      "1174\n",
      "2012_month_grouped.csv\n"
     ]
    }
   ],
   "source": [
    "data_sets = ['2001_data.csv', '2002_data.csv', '2003_data.csv', '2004_data.csv', '2005_data.csv', '2006_data.csv', '2007_data.csv', '2008_data.csv', '2009_data.csv', '2010_data.csv', '2011_data.csv', '2012_data.csv']\n",
    "#data_sets = ['2007_data.csv', '2008_data.csv', '2009_data.csv', '2010_data.csv', '2011_data.csv', '2012_data.csv']\n",
    "\n",
    "zips = pd.read_csv(\"zip_code_file.csv\")\n",
    "stations = zips['start station name']\n",
    "\n",
    "for set in data_sets:\n",
    "    month_data = pd.read_csv(set)\n",
    "    month_data['zip code'] = 111\n",
    "    month_grouped = month_data[[\"tripduration\", \"start station latitude\", \"start station longitude\", \"zip code\", \"month\", \"year\"]].groupby(month_data[\"start station name\"]).agg({\"tripduration\": [\"count\", \"sum\", \"min\", \"max\", \"mean\", \"median\", \"skew\"], \"start station latitude\": [\"first\"], \"start station longitude\": [\"first\"], \"zip code\": [\"first\"], \"month\": [\"first\"], \"year\": [\"first\"]}).reset_index()\n",
    "    month_grouped.columns = ['start station name', 'trip count', 'sum duration', 'min duration', 'max duration', 'mean duration', 'median duration', 'skew', 'start station latitude', 'start station longitude', 'zip code', 'month', 'year']\n",
    "    print(len(month_grouped))\n",
    "    \n",
    "    for station in stations:\n",
    "        df = zips[zips['start station name'] == station]\n",
    "        zip_data = df.iloc[0]['zip code'] \n",
    "        month_grouped.loc[(month_grouped['start station name'] == station), 'zip code'] = zip_data\n",
    "\n",
    "    st_r = set\n",
    "    f_n = st_r.split(\"_\")\n",
    "    file_name = f_n[0]\n",
    "    file_str = \"_month_grouped.csv\"\n",
    "    file_name += file_str\n",
    "    month_grouped.to_csv(file_name)\n",
    "    print(file_name)"
   ]
  },
  {
   "cell_type": "code",
   "execution_count": 14,
   "metadata": {},
   "outputs": [
    {
     "name": "stdout",
     "output_type": "stream",
     "text": [
      "1783\n",
      "2672\n",
      "3559\n",
      "4482\n",
      "5440\n",
      "6429\n",
      "7468\n",
      "8555\n",
      "9699\n",
      "10851\n",
      "12025\n",
      "                 start station name  trip count  sum duration  min duration  \\\n",
      "0                  1 Ave & E 110 St         689        502601            79   \n",
      "1                   1 Ave & E 16 St        4835       3101403            61   \n",
      "2                   1 Ave & E 18 St        4465       2795004            63   \n",
      "3                   1 Ave & E 30 St        2863       2165464            63   \n",
      "4                   1 Ave & E 44 St        2507       2265061            62   \n",
      "...                             ...         ...           ...           ...   \n",
      "12020      Woodward Ave & Harman St         139        116507            80   \n",
      "12021     Wyckoff Av & Jefferson St         297        351808            72   \n",
      "12022      Wyckoff Av & Stanhope St         423        366697            61   \n",
      "12023        Wyckoff St & Nevins St         527        429841            62   \n",
      "12024  Wythe Ave & Metropolitan Ave        1684       1576568            63   \n",
      "\n",
      "       max duration  mean duration  median duration       skew  \\\n",
      "0              9774     729.464441            481.0   5.944686   \n",
      "1             56461     641.448397            462.0  31.837229   \n",
      "2             44125     625.980739            488.0  34.767948   \n",
      "3            184079     756.361858            563.0  51.567191   \n",
      "4              7736     903.494615            765.0   2.391777   \n",
      "...             ...            ...              ...        ...   \n",
      "12020          2584     838.179856            663.0   0.991596   \n",
      "12021        112769    1184.538721            610.0  17.005557   \n",
      "12022          9535     866.895981            548.0   3.965360   \n",
      "12023          7366     815.637571            632.0   3.521768   \n",
      "12024         14774     936.204275            763.5   4.260602   \n",
      "\n",
      "       start station latitude  start station longitude zip code  month  year  \n",
      "0                   40.792327               -73.938300    10029      1  2020  \n",
      "1                   40.732219               -73.981656    10009      1  2020  \n",
      "2                   40.733812               -73.980544    10009      1  2020  \n",
      "3                   40.741444               -73.975361    10016      1  2020  \n",
      "4                   40.750020               -73.969053    10017      1  2020  \n",
      "...                       ...                      ...      ...    ...   ...  \n",
      "12020               40.707930               -73.910920    11385     12  2020  \n",
      "12021               40.707165               -73.923711    11237     12  2020  \n",
      "12022               40.703545               -73.917775    11237     12  2020  \n",
      "12023               40.683426               -73.984275    11217     12  2020  \n",
      "12024               40.716887               -73.963198    11249     12  2020  \n",
      "\n",
      "[12025 rows x 13 columns]\n"
     ]
    }
   ],
   "source": [
    "concat_data = pd.read_csv('2001_month_grouped.csv')  \n",
    "data_sets = ['2002_month_grouped.csv', '2003_month_grouped.csv', '2004_month_grouped.csv', '2005_month_grouped.csv', '2006_month_grouped.csv', '2007_month_grouped.csv', '2008_month_grouped.csv', '2009_month_grouped.csv', '2010_month_grouped.csv', '2011_month_grouped.csv', '2012_month_grouped.csv']\n",
    "\n",
    "for set in data_sets:\n",
    "    concat_data2 = pd.read_csv(set)\n",
    "    frames = [concat_data, concat_data2]\n",
    "    concat_data = pd.concat(frames).reset_index()\n",
    "    del concat_data['index']\n",
    "    print(len(concat_data))\n",
    "\n",
    "del concat_data['Unnamed: 0']\n",
    "print(concat_data)"
   ]
  },
  {
   "cell_type": "code",
   "execution_count": 18,
   "metadata": {},
   "outputs": [
    {
     "name": "stdout",
     "output_type": "stream",
     "text": [
      "          start station name  trip count  sum duration  min duration  \\\n",
      "0           1 Ave & E 110 St         689        502601            79   \n",
      "893         1 Ave & E 110 St         621        436016            67   \n",
      "1783        1 Ave & E 110 St         790        754883            64   \n",
      "2672        1 Ave & E 110 St         520        612476            83   \n",
      "3559        1 Ave & E 110 St        1342       3617257            64   \n",
      "...                      ...         ...           ...           ...   \n",
      "6428   Yankee Ferry Terminal         914       1870561            61   \n",
      "7467   Yankee Ferry Terminal        2481       6171749            62   \n",
      "8554   Yankee Ferry Terminal        2416       6255432            64   \n",
      "9698   Yankee Ferry Terminal        1782       6248120            77   \n",
      "10850  Yankee Ferry Terminal          21         35387           267   \n",
      "\n",
      "       max duration  mean duration  median duration       skew  \\\n",
      "0              9774     729.464441            481.0   5.944686   \n",
      "893           16076     702.119163            463.0  10.006416   \n",
      "1783          20600     955.548101            533.5   7.598904   \n",
      "2672           9569    1177.838462            824.0   2.859895   \n",
      "3559         518509    2695.422504           1150.0  21.827263   \n",
      "...             ...            ...              ...        ...   \n",
      "6428          13787    2046.565646           1709.0   3.248638   \n",
      "7467          79460    2487.605401           1735.0  12.168318   \n",
      "8554         145906    2589.168874           1799.0  15.320986   \n",
      "9698         511508    3506.240180           1871.0  21.557011   \n",
      "10850          3021    1685.095238           1636.0  -0.174500   \n",
      "\n",
      "       start station latitude  start station longitude zip code  month  year  \n",
      "0                   40.792327               -73.938300    10029      1  2020  \n",
      "893                 40.792327               -73.938300    10029      2  2020  \n",
      "1783                40.792327               -73.938300    10029      3  2020  \n",
      "2672                40.792327               -73.938300    10029      4  2020  \n",
      "3559                40.792327               -73.938300    10029      5  2020  \n",
      "...                       ...                      ...      ...    ...   ...  \n",
      "6428                40.686931               -74.016966    11231      7  2020  \n",
      "7467                40.686931               -74.016966    11231      8  2020  \n",
      "8554                40.686931               -74.016966    11231      9  2020  \n",
      "9698                40.686931               -74.016966    11231     10  2020  \n",
      "10850               40.686931               -74.016966    11231     11  2020  \n",
      "\n",
      "[12025 rows x 13 columns]\n"
     ]
    }
   ],
   "source": [
    "citi_sorted = concat_data.sort_values(by=['start station name', 'month'])\n",
    "#citi_grouped = concat_data.groupby([\"start station name\", \"month\"])\n",
    "#citi_grouped = concat_data[['trip count', 'sum duration', 'min duration', 'max duration', 'mean duration', 'median duration', 'skew', 'start station latitude', 'start station longitude', 'zip code', 'year']].groupby([concat_data[\"start station name\"],concat_data[\"month\"]]).agg({\"tripduration\": [\"count\", \"sum\", \"min\", \"max\", \"mean\", \"median\", \"skew\"], \"start station latitude\": [\"first\"], \"start station longitude\": [\"first\"], \"zip code\": [\"first\"], \"year\": [\"first\"]}).reset_index()\n",
    "#citi_grouped.columns = ['start station name', 'month', 'trip count', 'sum duration', 'min duration', 'max duration', 'mean duration', 'median duration', 'skew', 'start station latitude', 'start station longitude', 'zip code', 'year']\n",
    "        \n",
    "print (citi_sorted)\n",
    "#print (citi_grouped)"
   ]
  },
  {
   "cell_type": "code",
   "execution_count": 19,
   "metadata": {},
   "outputs": [],
   "source": [
    "citi_sorted.to_csv(\"2020_groupedByMonth_data.csv\")"
   ]
  },
  {
   "cell_type": "code",
   "execution_count": null,
   "metadata": {},
   "outputs": [],
   "source": []
  }
 ],
 "metadata": {
  "kernelspec": {
   "display_name": "Python 3",
   "language": "python",
   "name": "python3"
  },
  "language_info": {
   "codemirror_mode": {
    "name": "ipython",
    "version": 3
   },
   "file_extension": ".py",
   "mimetype": "text/x-python",
   "name": "python",
   "nbconvert_exporter": "python",
   "pygments_lexer": "ipython3",
   "version": "3.8.3"
  }
 },
 "nbformat": 4,
 "nbformat_minor": 4
}
